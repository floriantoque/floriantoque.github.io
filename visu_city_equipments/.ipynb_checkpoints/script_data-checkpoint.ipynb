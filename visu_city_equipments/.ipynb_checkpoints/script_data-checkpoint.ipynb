{
 "cells": [
  {
   "cell_type": "markdown",
   "metadata": {},
   "source": [
    "# The notebook:\n",
    " * Load city equipment data from <a href=\"https://api.paris.fr\">Paris API</a> and <a href=\"http://donnees.ville.montreal.qc.ca/dataset?res_format=JSON\">Montreal API</a>\n",
    " * Clean data on csv files with header (\"id\",\"name\",\"lat\",\"lon\",\"address\",\"zipCode\",\"websiteUrl\",\"id_cat\",\"cat\",\"type\")\n",
    " * Concatenation of the dataset\n",
    "\n",
    "** Table of content**\n",
    " * [1) Paris API](#parisapi)\n",
    " * [2) Montreal API](#montrealapi)\n",
    " * [3) Concatenation](#concatenation)"
   ]
  },
  {
   "cell_type": "markdown",
   "metadata": {},
   "source": [
    "# <a id=\"parisapi\">1) Paris API<a>"
   ]
  },
  {
   "cell_type": "code",
   "execution_count": 1,
   "metadata": {
    "collapsed": true
   },
   "outputs": [],
   "source": [
    "import pandas as pd\n",
    "import requests"
   ]
  },
  {
   "cell_type": "code",
   "execution_count": 2,
   "metadata": {
    "collapsed": true
   },
   "outputs": [],
   "source": [
    "token=\"fbce1d372430cfac0c1abbd73323fdf840d76b44b697b039576815a278b8f883\""
   ]
  },
  {
   "cell_type": "code",
   "execution_count": 3,
   "metadata": {
    "scrolled": false
   },
   "outputs": [
    {
     "name": "stdout",
     "output_type": "stream",
     "text": [
      "id 27 Piscines\n",
      "id 280 Tennis\n"
     ]
    }
   ],
   "source": [
    "categories = requests.request(method=\"GET\",\n",
    "                              url=\"https://api.paris.fr/api/data/1.0/Equipements/get_categories/?token=\"+token)\n",
    "for c in categories.json()[\"data\"]:\n",
    "    if (\"piscine\" in c[\"name\"].lower()):\n",
    "        print (\"id\", c[\"idcategories\"],c[\"name\"])\n",
    "    if (\"tennis\" in c[\"name\"].lower()):\n",
    "        print (\"id\", c[\"idcategories\"],c[\"name\"])"
   ]
  },
  {
   "cell_type": "code",
   "execution_count": 62,
   "metadata": {
    "scrolled": true
   },
   "outputs": [
    {
     "data": {
      "text/plain": [
       "[{'idcategories': 47, 'name': 'Ateliers Beaux-Arts'},\n",
       " {'idcategories': 329, 'name': 'Autres lieux'},\n",
       " {'idcategories': 332, 'name': 'Bains-douches'}]"
      ]
     },
     "execution_count": 62,
     "metadata": {},
     "output_type": "execute_result"
    }
   ],
   "source": [
    "categories.json()[\"data\"][:3]"
   ]
  },
  {
   "cell_type": "code",
   "execution_count": 5,
   "metadata": {
    "collapsed": true
   },
   "outputs": [],
   "source": [
    "piscine = requests.request(method=\"GET\",\n",
    "                           url=\"https://api.paris.fr/api/data/1.0/Equipements/get_equipements/?token=\"+\n",
    "                                token+\"&cid=27&offset=1&limit=1000\").json()[\"data\"]\n",
    "tennis = requests.request(method=\"GET\",\n",
    "                           url=\"https://api.paris.fr/api/data/1.0/Equipements/get_equipements/?token=\"+\n",
    "                                token+\"&cid=280&offset=1&limit=1000\").json()[\"data\"]"
   ]
  },
  {
   "cell_type": "code",
   "execution_count": 60,
   "metadata": {
    "scrolled": false
   },
   "outputs": [
    {
     "name": "stdout",
     "output_type": "stream",
     "text": [
      "Piscine Saint-Germain\n",
      "Tennis Château des Rentiers\n"
     ]
    }
   ],
   "source": [
    "print(get_equipement(\"2919\")[0][\"name\"])\n",
    "print(get_equipement(\"2968\")[0][\"name\"])"
   ]
  },
  {
   "cell_type": "code",
   "execution_count": 5,
   "metadata": {},
   "outputs": [
    {
     "name": "stdout",
     "output_type": "stream",
     "text": [
      "number of piscines 38\n",
      "number of tennis 39\n"
     ]
    }
   ],
   "source": [
    "print (\"number of piscines\", len(piscines))\n",
    "print (\"number of tennis\", len(tennis))"
   ]
  },
  {
   "cell_type": "markdown",
   "metadata": {},
   "source": [
    "## Create dataframe"
   ]
  },
  {
   "cell_type": "code",
   "execution_count": 64,
   "metadata": {
    "collapsed": true
   },
   "outputs": [],
   "source": [
    "def get_equipement(id_):\n",
    "    equipement = requests.request(method=\"GET\",\n",
    "                             url=\"https://api.paris.fr/api/data/1.0/Equipements/get_equipement/?token=\"+\n",
    "                             token+\"&id=\"+str(id_)).json()[\"data\"]\n",
    "    return equipement\n",
    "\n",
    "def get_websiteurl(name,id_):\n",
    "    return \"http://equipement.paris.fr/\"+name.lower().replace(\" \",\"-\").replace(\"'\",\"-\")+\"-\"+id_\n",
    "\n",
    "def get_dataframe_equipements(id_cat,cat):\n",
    "    equipements = requests.request(method=\"GET\",\n",
    "                                  url=\"https://api.paris.fr/api/data/1.0/Equipements/get_equipements/?token=\"+\n",
    "                                   token+\"&cid=\"+id_cat+\"&offset=1&limit=1000\").json()[\"data\"]\n",
    "    equipements_ =  [[e[\"idequipements\"],e[\"name\"],e[\"lat\"],e[\"lon\"],e[\"address\"],\n",
    "                     e[\"zipCode\"],get_websiteurl(e[\"name\"],str(e[\"idequipements\"])),id_cat,cat]\n",
    "                     for e in [get_equipement(int(x[\"id\"]))[0] for x in equipements]]\n",
    "    return pd.DataFrame(data=equipements_ , \n",
    "                        columns=[\"id\",\"name\",\"lat\",\"lon\",\"address\",\"zipCode\",\"websiteUrl\",\"id_cat\",\"cat\"])"
   ]
  },
  {
   "cell_type": "code",
   "execution_count": 66,
   "metadata": {},
   "outputs": [],
   "source": [
    "df_piscines = get_dataframe_equipements(\"27\",\"Swimming Pool\")\n",
    "df_tennis = get_dataframe_equipements(\"280\",\"Tennis\")"
   ]
  },
  {
   "cell_type": "code",
   "execution_count": 67,
   "metadata": {
    "collapsed": true,
    "scrolled": true
   },
   "outputs": [],
   "source": [
    "df_piscines.to_csv(\"../../data/paris_api/piscines.csv\",index=False)\n",
    "df_tennis.to_csv(\"../../data/paris_api/tennis.csv\",index=False)"
   ]
  },
  {
   "cell_type": "markdown",
   "metadata": {},
   "source": [
    "## Create column state (Visited/Not Yet visited)"
   ]
  },
  {
   "cell_type": "code",
   "execution_count": 149,
   "metadata": {
    "collapsed": true
   },
   "outputs": [],
   "source": [
    "df_concat = pd.concat([df_piscines,df_tennis])\n",
    "l_visited=[ 2916,  2918,  2919,  2920,  2921,  2923,  2924,  2925,  2926,\n",
    "        2927,  2928,  2929,  2930,  2931,  2932,  2933,  2934,\n",
    "        2936,  2937,  2939,  2941,\n",
    "        2945,  2946,  2947,  2948,  2949,  2950,  3324,  3325,  4012,\n",
    "        5041, 17349, 2940, 2935,2967]\n",
    "df_concat[\"state\"]=\"Not yet visited\"\n",
    "df_concat.loc[df_concat[\"id\"].isin(l_visited),\"state\"]=\"Visited\"\n",
    "df_concat[\"city\"]=\"Paris\""
   ]
  },
  {
   "cell_type": "markdown",
   "metadata": {
    "collapsed": true
   },
   "source": [
    "# <a id='montrealapi'>2) Montreal API</a>"
   ]
  },
  {
   "cell_type": "code",
   "execution_count": 74,
   "metadata": {
    "collapsed": true
   },
   "outputs": [],
   "source": [
    "df_piscines_montreal = pd.read_csv(\"../../data/montreal_api/piscines.csv\")"
   ]
  },
  {
   "cell_type": "code",
   "execution_count": 166,
   "metadata": {},
   "outputs": [],
   "source": [
    "df_piscines_mnew = df_piscines_montreal[df_piscines_montreal[\"TYPE\"]\n",
    "                     .isin([\"Piscine intérieure\",\"Piscine extérieure\",\n",
    "                            \"Piscine extérieure, Jeux d'eau\"])].drop_duplicates([\"LONG\",\"LAT\"])\n",
    "df_piscines_mnew[\"ID_UEV\"]= [str(i)+\"m\"+str(idx) for idx,i in enumerate(df_piscines_mnew[\"ID_UEV\"].values)]\n",
    "df_piscines_mnew= df_piscines_mnew[[\"ID_UEV\",\"NOM\",\"LAT\",\"LONG\",\"ADRESSE\",\"ARRONDISSE\",\"TYPE\"]]\n",
    "df_piscines_mnew.columns=[\"id\",\"name\",\"lat\",\"lon\",\"address\",\"zipCode\",\"type\"]\n",
    "df_piscines_mnew[\"cat\"]=\"Swimming Pool\"\n",
    "df_piscines_mnew[\"state\"]=\"Not yet visited\"\n",
    "df_piscines_mnew[\"city\"]=\"Montreal\""
   ]
  },
  {
   "cell_type": "code",
   "execution_count": 167,
   "metadata": {},
   "outputs": [
    {
     "data": {
      "text/html": [
       "<div>\n",
       "<style>\n",
       "    .dataframe thead tr:only-child th {\n",
       "        text-align: right;\n",
       "    }\n",
       "\n",
       "    .dataframe thead th {\n",
       "        text-align: left;\n",
       "    }\n",
       "\n",
       "    .dataframe tbody tr th {\n",
       "        vertical-align: top;\n",
       "    }\n",
       "</style>\n",
       "<table border=\"1\" class=\"dataframe\">\n",
       "  <thead>\n",
       "    <tr style=\"text-align: right;\">\n",
       "      <th></th>\n",
       "      <th>id</th>\n",
       "      <th>name</th>\n",
       "      <th>lat</th>\n",
       "      <th>lon</th>\n",
       "      <th>address</th>\n",
       "      <th>zipCode</th>\n",
       "      <th>type</th>\n",
       "      <th>cat</th>\n",
       "      <th>state</th>\n",
       "      <th>city</th>\n",
       "    </tr>\n",
       "  </thead>\n",
       "  <tbody>\n",
       "    <tr>\n",
       "      <th>71</th>\n",
       "      <td>4084462m28</td>\n",
       "      <td>Parc Robert-Sauvé</td>\n",
       "      <td>45.481102</td>\n",
       "      <td>-73.866735</td>\n",
       "      <td>15 734, Rue de la Caserne, Sainte-Geneviève</td>\n",
       "      <td>L'Île-Bizard–Sainte-Geneviève</td>\n",
       "      <td>Piscine extérieure</td>\n",
       "      <td>Swimming Pool</td>\n",
       "      <td>Not yet visited</td>\n",
       "      <td>Montreal</td>\n",
       "    </tr>\n",
       "  </tbody>\n",
       "</table>\n",
       "</div>"
      ],
      "text/plain": [
       "            id               name        lat        lon  \\\n",
       "71  4084462m28  Parc Robert-Sauvé  45.481102 -73.866735   \n",
       "\n",
       "                                        address  \\\n",
       "71  15 734, Rue de la Caserne, Sainte-Geneviève   \n",
       "\n",
       "                          zipCode                type            cat  \\\n",
       "71  L'Île-Bizard–Sainte-Geneviève  Piscine extérieure  Swimming Pool   \n",
       "\n",
       "              state      city  \n",
       "71  Not yet visited  Montreal  "
      ]
     },
     "execution_count": 167,
     "metadata": {},
     "output_type": "execute_result"
    }
   ],
   "source": [
    "df_piscines_mnew.loc[df_piscines_mnew[\"name\"]==\"Parc Robert-Sauvé\"]"
   ]
  },
  {
   "cell_type": "markdown",
   "metadata": {},
   "source": [
    "# <a id='concatenation'>3) Concatenation</a>"
   ]
  },
  {
   "cell_type": "code",
   "execution_count": 163,
   "metadata": {
    "scrolled": false
   },
   "outputs": [],
   "source": [
    "df_concat_cityequip = pd.concat([df_concat,df_piscines_mnew])\n",
    "df_concat_cityequip= df_concat_cityequip[[\"id\",\"name\",\"lat\",\"lon\",\"address\",\n",
    "                                          \"zipCode\",\"websiteUrl\",\"id_cat\",\"cat\",\"type\",\"city\",\"state\"]]"
   ]
  },
  {
   "cell_type": "code",
   "execution_count": 164,
   "metadata": {},
   "outputs": [],
   "source": [
    "df_concat_cityequip.to_csv(\"../../data/website_equipments/csv/equipments.csv\",index=False)\n"
   ]
  },
  {
   "cell_type": "markdown",
   "metadata": {},
   "source": [
    "# csv -> json"
   ]
  },
  {
   "cell_type": "code",
   "execution_count": 183,
   "metadata": {},
   "outputs": [],
   "source": [
    "\n",
    "path_csv=\"../../data/website_equipments/csv/equipments.csv\"\n",
    "path_json=\"../../data/website_equipments/json/equipments.json\"\n",
    "df_equip = pd.read_csv(path_csv)\n",
    "json_equipments = df_equip.set_index(\"id\").to_json(orient=\"index\",force_ascii=False)\n",
    "\n",
    "with open(path_json, \"w\",encodig=\"utf-8\") as text_file:\n",
    "    print(\"equipments = {};\".format(json_equipments), file=text_file)\n",
    "    \n",
    "    \n",
    "    \n",
    "### Optional, uncomment this part if you want to create state_svg.json information with the script\n",
    "path_json=\"../../data/website_equipments/json/state_svg.json\"\n",
    "state = {\"Swimming Pool\":{'Not yet visited':'../../../data/website_equipments/svg/piscine_grey.png',\n",
    "                     'Visited':'../../../data/website_equipments/svg/piscine_blue.png'},\n",
    "         \"Tennis\":{'Not yet visited':'../../../data/website_equipments/svg/tennis_grey.png',\n",
    "                   'Visited':'../../../data/website_equipments/svg/tennis_yellow.png'}\n",
    "}\n",
    "with open(path_json, \"w\") as text_file:\n",
    "    print(\"state_svg = {};\".format(str(state)), file=text_file)\n",
    "###"
   ]
  },
  {
   "cell_type": "code",
   "execution_count": 184,
   "metadata": {
    "scrolled": false
   },
   "outputs": [
    {
     "data": {
      "text/plain": [
       "b'{\"2916\":{\"name\":\"Piscine Suzanne Berlioux (Les Halles)\",\"lat\":48.8623474,\"lon\":2.3458559,\"address\":\"forum des Halles\",\"zipCode\":\"75001\",\"websiteUrl\":\"http:\\\\/\\\\/equipement.paris.fr\\\\/piscine-suzanne-berlioux-(les-halles)-2916\",\"id_cat\":27.0,\"cat\":\"Swimming Pool\",\"type\":null,\"city\":\"Paris\",\"state\":\"Visited\"},\"2918\":{\"name\":\"Piscine Pontoise\",\"lat\":48.849236,\"lon\":2.3515816,\"address\":\"19, rue de Pontoise\",\"zipCode\":\"75005\",\"websiteUrl\":\"http:\\\\/\\\\/equipement.paris.fr\\\\/piscine-pontoise-2918\",\"id_cat\":27.0,\"cat\":\"Swimming Pool\",\"type\":null,\"city\":\"Paris\",\"state\":\"Visited\"},\"2919\":{\"name\":\"Piscine Saint-Germain\",\"lat\":48.851669,\"lon\":2.335931,\"address\":\"12, rue Lobineau \",\"zipCode\":\"75006\",\"websiteUrl\":\"http:\\\\/\\\\/equipement.paris.fr\\\\/piscine-saint-germain-2919\",\"id_cat\":27.0,\"cat\":\"Swimming Pool\",\"type\":null,\"city\":\"Paris\",\"state\":\"Visited\"},\"2920\":{\"name\":\"Piscine Georges Drigny\",\"lat\":48.881893,\"lon\":2.342184,\"address\":\"18, rue Bochart de Saron \",\"zipCode\":\"75009\",\"websiteUrl\":\"http:\\\\/\\\\/equipement.paris.fr\\\\/piscine-georges-drigny-2920\",\"id_cat\":27.0,\"cat\":\"Swimming Pool\",\"type\":null,\"city\":\"Paris\",\"state\":\"Visited\"},\"2921\":{\"name\":\"Piscine Paul Valeyre\",\"lat\":48.8781484,\"lon\":2.3449489,\"address\":\"24, rue de Rochechouart\",\"zipCode\":\"75009\",\"websiteUrl\":\"http:\\\\/\\\\/equipement.paris.fr\\\\/piscine-paul-valeyre-2921\",\"id_cat\":27.0,\"cat\":\"Swimming Pool\",\"type\":null,\"city\":\"Paris\",\"state\":\"Visited\"},\"2923\":{\"name\":\"Piscine Ch?teau-Landon\",\"lat\":48.883221,\"lon\":2.363909,\"address\":\"31, rue du ch?teau-Landon \",\"zipCode\":\"75010\",\"websiteUrl\":\"http:\\\\/\\\\/equipement.paris.fr\\\\/piscine-ch?teau-landon-2923\",\"id_cat\":27.0,\"cat\":\"Swimming Pool\",\"type\":null,\"city\":\"Paris\",\"state\":\"Visited\"},\"2924\":{\"name\":\"Piscine Georges Rigal\",\"lat\":48.856609,\"lon\":2.394056,\"address\":\"115, boulevard de Charonne \",\"zipCode\":\"75011\",\"websiteUrl\":\"http:\\\\/\\\\/equipement.paris.fr\\\\/piscine-georges-rigal-2924\",\"id_cat\":27.0,\"cat\":\"Swimming Pool\",\"type\":null,\"city\":\"Paris\",\"state\":\"Visited\"},\"2925\":{\"name\":\"Piscine de la Cour des Lions\",\"lat\":48.860626,\"lon\":2.370507,\"address\":\"9, rue Alphonse Baudin \",\"zipCode\":\"75011\",\"websiteUrl\":\"http:\\\\/\\\\/equipement.paris.fr\\\\/piscine-de-la-cour-des-lions-2925\",\"id_cat\":27.0,\"cat\":\"Swimming Pool\",\"type\":null,\"city\":\"Paris\",\"state\":\"Visited\"},\"2926\":{\"name\":\"Piscine Jean Boiteux ex Reuilly\",\"lat\":48.841927,\"lon\":2.389423,\"address\":\"13, rue H?nard \",\"zipCode\":\"75012\",\"websiteUrl\":\"http:\\\\/\\\\/equipement.paris.fr\\\\/piscine-jean-boiteux-ex-reuilly-2926\",\"id_cat\":27.0,\"cat\":\"Swimming Pool\",\"type\":null,\"city\":\"Paris\",\"state\":\"Visited\"},\"2927\":{\"name\":\"Piscine de la Butte aux Cailles\",\"lat\":48.8274283,\"lon\":2.3524749,\"address\":\"5, place Paul Verlaine\",\"zipCode\":\"75013\",\"websiteUrl\":\"http:\\\\/\\\\/equipement.paris.fr\\\\/piscine-de-la-butte-aux-cailles-2927\",\"id_cat\":27.0,\"cat\":\"Swimming Pool\",\"type\":null,\"city\":\"Paris\",\"state\":\"Visited\"},\"2928\":{\"name\":\"Piscine Ch?teau des Rentiers\",\"lat\":48.830406,\"lon\":2.3619,\"address\":\"184, rue du Ch?teau des Rentiers \",\"zipCode\":\"75013\",\"websiteUrl\":\"http:\\\\/\\\\/equipement.paris.fr\\\\/piscine-ch?teau-des-rentiers-2928\",\"id_cat\":27.0,\"cat\":\"Swimming Pool\",\"type\":null,\"city\":\"Paris\",\"state\":\"Visited\"},\"2929\":{\"name\":\"Piscine Dunois\",\"lat\":48.832973,\"lon\":2.366437,\"address\":\"70, rue Dunois \",\"zipCode\":\"75013\",\"websiteUrl\":\"http:\\\\/\\\\/equipement.paris.fr\\\\/piscine-dunois-2929\",\"id_cat\":27.0,\"cat\":\"Swimming Pool\",\"type\":null,\"city\":\"Paris\",\"state\":\"Visited\"},\"2930\":{\"name\":\"Piscine Jos?phine-Baker\",\"lat\":48.8338944,\"lon\":2.3775918,\"address\":\"quai Fran?ois Mauriac - Quai de la Gare\",\"zipCode\":\"75013\",\"websiteUrl\":\"http:\\\\/\\\\/equipement.paris.fr\\\\/piscine-jos?phine-baker-2930\",\"id_cat\":27.0,\"cat\":\"Swimming Pool\",\"type\":null,\"city\":\"Paris\",\"state\":\"Visited\"},\"2931\":{\"name\":\"Piscine Aspirant Dunand\",\"lat\":48.831699,\"lon\":2.326708,\"address\":\"20, rue Saillard \",\"zipCode\":\"75014\",\"websiteUrl\":\"http:\\\\/\\\\/equipement.paris.fr\\\\/piscine-aspirant-dunand-2931\",\"id_cat\":27.0,\"cat\":\"Swimming Pool\",\"type\":null,\"city\":\"Paris\",\"state\":\"Visited\"},\"2932\":{\"name\":\"Piscine Didot\",\"lat\":48.824276,\"lon\":2.309616,\"address\":\"22, avenue Georges Lafenestre \",\"zipCode\":\"75014\",\"websiteUrl\":\"http:\\\\/\\\\/equipement.paris.fr\\\\/piscine-didot-2932\",\"id_cat\":27.0,\"cat\":\"Swimming Pool\",\"type\":null,\"city\":\"Paris\",\"state\":\"Visited\"},\"2933\":{\"name\":\"Piscine Armand Massard\",\"lat\":48.844036,\"lon\":2.323341,\"address\":\"66 boulevard du Montparnasse \",\"zipCode\":\"75015\",\"websiteUrl\":\"http:\\\\/\\\\/equipement.paris.fr\\\\/piscine-armand-massard-2933\",\"id_cat\":27.0,\"cat\":\"Swimming Pool\",\"type\":null,\"city\":\"Paris\",\"state\":\"Visited\"},\"2935\":{\"name\":\"Piscine Emile Anthoine (bassin mobile)\",\"lat\":48.8572006,\"lon\":2.2911543,\"address\":\"2, avenue de Suffren\",\"zipCode\":\"75015\",\"websiteUrl\":\"http:\\\\/\\\\/equipement.paris.fr\\\\/piscine-emile-anthoine-(bassin-mobile)-2935\",\"id_cat\":27.0,\"cat\":\"Swimming Pool\",\"type\":null,\"city\":\"Paris\",\"state\":\"Visited\"},\"2936\":{\"name\":\"Piscine Keller\",\"lat\":48.8473705,\"lon\":2.2820431,\"address\":\"14, rue de l\\\\\\\\\\'Ing?nieur Robert-Keller\",\"zipCode\":\"75015\",\"websiteUrl\":\"http:\\\\/\\\\/equipement.paris.fr\\\\/piscine-keller-2936\",\"id_cat\":27.0,\"cat\":\"Swimming Pool\",\"type\":null,\"city\":\"Paris\",\"state\":\"Visited\"},\"2937\":{\"name\":\"Piscine La Plaine\",\"lat\":48.827991,\"lon\":2.292976,\"address\":\"13, rue du G?n?ral Guillaumat \",\"zipCode\":\"75015\",\"websiteUrl\":\"http:\\\\/\\\\/equipement.paris.fr\\\\/piscine-la-plaine-2937\",\"id_cat\":27.0,\"cat\":\"Swimming Pool\",\"type\":null,\"city\":\"Paris\",\"state\":\"Visited\"},\"2938\":{\"name\":\"Piscine Ren? et Andr? Mourlon\",\"lat\":48.848824,\"lon\":2.284898,\"address\":\"19, rue Gaston de Caillavet \",\"zipCode\":\"75015\",\"websiteUrl\":\"http:\\\\/\\\\/equipement.paris.fr\\\\/piscine-ren?-et-andr?-mourlon-2938\",\"id_cat\":27.0,\"cat\":\"Swimming Pool\",\"type\":null,\"city\":\"Paris\",\"state\":\"Not yet visited\"},\"2939\":{\"name\":\"Piscine Henry de Montherlant\",\"lat\":48.867092,\"lon\":2.271985,\"address\":\"30, boulevard Lannes \",\"zipCode\":\"75016\",\"websiteUrl\":\"http:\\\\/\\\\/equipement.paris.fr\\\\/piscine-henry-de-montherlant-2939\",\"id_cat\":27.0,\"cat\":\"Swimming Pool\",\"type\":null,\"city\":\"Paris\",\"state\":\"Visited\"},\"2940\":{\"name\":\"Piscine Bernard Lafay\",\"lat\":48.894707,\"lon\":2.318883,\"address\":\"79, rue de la Jonqui?re \",\"zipCode\":\"75017\",\"websiteUrl\":\"http:\\\\/\\\\/equipement.paris.fr\\\\/piscine-bernard-lafay-2940\",\"id_cat\":27.0,\"cat\":\"Swimming Pool\",\"type\":null,\"city\":\"Paris\",\"state\":\"Visited\"},\"2941\":{\"name\":\"Piscine Champerret\",\"lat\":48.888275,\"lon\":2.295667,\"address\":\"36, boulevard de Reims \",\"zipCode\":\"75017\",\"websiteUrl\":\"http:\\\\/\\\\/equipement.paris.fr\\\\/piscine-champerret-2941\",\"id_cat\":27.0,\"cat\":\"Swimming Pool\",\"type\":null,\"city\":\"Paris\",\"state\":\"Visited\"},\"2942\":{\"name\":\"Piscine Bertrand Dauvin\",\"lat\":48.899296,\"lon\":2.342513,\"address\":\"12, rue Ren? Binet \",\"zipCode\":\"75018\",\"websiteUrl\":\"http:\\\\/\\\\/equipement.paris.fr\\\\/piscine-bertrand-dauvin-2942\",\"id_cat\":27.0,\"cat\":\"Swimming Pool\",\"type\":null,\"city\":\"Paris\",\"state\":\"Not yet visited\"},\"2943\":{\"name\":\"Piscine H?bert\",\"lat\":48.8940677,\"lon\":2.3632265,\"address\":\"2, rue des Fillettes\",\"zipCode\":\"75018\",\"websiteUrl\":\"http:\\\\/\\\\/equipement.paris.fr\\\\/piscine-h?bert-2943\",\"id_cat\":27.0,\"cat\":\"Swimming Pool\",\"type\":null,\"city\":\"Paris\",\"state\":\"Not yet visited\"},\"2944\":{\"name\":\"Piscine des Amiraux\",\"lat\":48.894421,\"lon\":2.350622,\"address\":\"6, rue Hermann Lachapelle \",\"zipCode\":\"75018\",\"websiteUrl\":\"http:\\\\/\\\\/equipement.paris.fr\\\\/piscine-des-amiraux-2944\",\"id_cat\":27.0,\"cat\":\"Swimming Pool\",\"type\":null,\"city\":\"Paris\",\"state\":\"Not yet visited\"},\"2945\":{\"name\":\"Piscine Edouard Pailleron\",\"lat\":48.880829,\"lon\":2.377323,\"address\":\"32, rue Edouard Pailleron \",\"zipCode\":\"75019\",\"websiteUrl\":\"http:\\\\/\\\\/equipement.paris.fr\\\\/piscine-edouard-pailleron-2945\",\"id_cat\":27.0,\"cat\":\"Swimming Pool\",\"type\":null,\"city\":\"Paris\",\"state\":\"Visited\"},\"2946\":{\"name\":\"Piscine Mathis\",\"lat\":48.890816,\"lon\":2.375107,\"address\":\"15, rue Mathis \",\"zipCode\":\"75019\",\"websiteUrl\":\"http:\\\\/\\\\/equipement.paris.fr\\\\/piscine-mathis-2946\",\"id_cat\":27.0,\"cat\":\"Swimming Pool\",\"type\":null,\"city\":\"Paris\",\"state\":\"Visited\"},\"2947\":{\"name\":\"Piscine Rouvet\",\"lat\":48.893188,\"lon\":2.385029,\"address\":\"1, rue Rouvet \",\"zipCode\":\"75019\",\"websiteUrl\":\"http:\\\\/\\\\/equipement.paris.fr\\\\/piscine-rouvet-2947\",\"id_cat\":27.0,\"cat\":\"Swimming Pool\",\"type\":null,\"city\":\"Paris\",\"state\":\"Visited\"},\"2948\":{\"name\":\"Piscine Georges Hermant\",\"lat\":48.8826541,\"lon\":2.3896377,\"address\":\"8-10, rue David d Angers\",\"zipCode\":\"75019\",\"websiteUrl\":\"http:\\\\/\\\\/equipement.paris.fr\\\\/piscine-georges-hermant-2948\",\"id_cat\":27.0,\"cat\":\"Swimming Pool\",\"type\":null,\"city\":\"Paris\",\"state\":\"Visited\"},\"2949\":{\"name\":\"Piscine Georges-Vallerey\",\"lat\":48.875381,\"lon\":2.405829,\"address\":\"148, avenue Gambetta \",\"zipCode\":\"75020\",\"websiteUrl\":\"http:\\\\/\\\\/equipement.paris.fr\\\\/piscine-georges-vallerey-2949\",\"id_cat\":27.0,\"cat\":\"Swimming Pool\",\"type\":null,\"city\":\"Paris\",\"state\":\"Visited\"},\"2950\":{\"name\":\"Piscine Roger Le Gall\",\"lat\":48.842007,\"lon\":2.413147,\"address\":\"34, boulevard Carnot \",\"zipCode\":\"75012\",\"websiteUrl\":\"http:\\\\/\\\\/equipement.paris.fr\\\\/piscine-roger-le-gall-2950\",\"id_cat\":27.0,\"cat\":\"Swimming Pool\",\"type\":null,\"city\":\"Paris\",\"state\":\"Visited\"},\"3324\":{\"name\":\"Piscine d\\'Auteuil\",\"lat\":48.8583926,\"lon\":2.26091,\"address\":\"1, Route des Lacs ? Passy\",\"zipCode\":\"75016\",\"websiteUrl\":\"http:\\\\/\\\\/equipement.paris.fr\\\\/piscine-d-auteuil-3324\",\"id_cat\":27.0,\"cat\":\"Swimming Pool\",\"type\":null,\"city\":\"Paris\",\"state\":\"Visited\"},\"3325\":{\"name\":\"Piscine Jean Taris\",\"lat\":48.8447257,\"lon\":2.3479414,\"address\":\"16, rue Thouin\",\"zipCode\":\"75005\",\"websiteUrl\":\"http:\\\\/\\\\/equipement.paris.fr\\\\/piscine-jean-taris-3325\",\"id_cat\":27.0,\"cat\":\"Swimming Pool\",\"type\":null,\"city\":\"Paris\",\"state\":\"Visited\"},\"4012\":{\"name\":\"Piscine Alfred Nakache\",\"lat\":48.871498,\"lon\":2.378612,\"address\":\"4-12, rue D?noyez \",\"zipCode\":\"75020\",\"websiteUrl\":\"http:\\\\/\\\\/equipement.paris.fr\\\\/piscine-alfred-nakache-4012\",\"id_cat\":27.0,\"cat\":\"Swimming Pool\",\"type\":null,\"city\":\"Paris\",\"state\":\"Visited\"},\"5041\":{\"name\":\"Piscine Catherine Lagatu ex Parmentier\",\"lat\":48.871693,\"lon\":2.369786,\"address\":\"155 avenue Parmentier\",\"zipCode\":\"75010\",\"websiteUrl\":\"http:\\\\/\\\\/equipement.paris.fr\\\\/piscine-catherine-lagatu-ex-parmentier-5041\",\"id_cat\":27.0,\"cat\":\"Swimming Pool\",\"type\":null,\"city\":\"Paris\",\"state\":\"Visited\"},\"17349\":{\"name\":\"Piscine Jacqueline Auriol ex Beaujon\",\"lat\":48.8765928,\"lon\":2.3070016,\"address\":\"7 All?e Louis de Fun?s\",\"zipCode\":\"75008\",\"websiteUrl\":\"http:\\\\/\\\\/equipement.paris.fr\\\\/piscine-jacqueline-auriol-ex-beaujon-17349\",\"id_cat\":27.0,\"cat\":\"Swimming Pool\",\"type\":null,\"city\":\"Paris\",\"state\":\"Visited\"},\"2965\":{\"name\":\"Tennis Alain Mimoun ex Paul Val?ry\",\"lat\":48.837959,\"lon\":2.410325,\"address\":\"15 Rue de la Nouvelle-Cal?donie \",\"zipCode\":\"75012\",\"websiteUrl\":\"http:\\\\/\\\\/equipement.paris.fr\\\\/tennis-alain-mimoun-ex-paul-val?ry-2965\",\"id_cat\":280.0,\"cat\":\"Tennis\",\"type\":null,\"city\":\"Paris\",\"state\":\"Not yet visited\"},\"2966\":{\"name\":\"Tennis Georges Carpentier\",\"lat\":48.820801,\"lon\":2.366817,\"address\":\"81 Boulevard Mass?na \",\"zipCode\":\"75013\",\"websiteUrl\":\"http:\\\\/\\\\/equipement.paris.fr\\\\/tennis-georges-carpentier-2966\",\"id_cat\":280.0,\"cat\":\"Tennis\",\"type\":null,\"city\":\"Paris\",\"state\":\"Not yet visited\"},\"2967\":{\"name\":\"Tennis Moureu Baudricourt\",\"lat\":48.82777,\"lon\":2.364578,\"address\":\"17 Avenue Edison \",\"zipCode\":\"75013\",\"websiteUrl\":\"http:\\\\/\\\\/equipement.paris.fr\\\\/tennis-moureu-baudricourt-2967\",\"id_cat\":280.0,\"cat\":\"Tennis\",\"type\":null,\"city\":\"Paris\",\"state\":\"Visited\"},\"2968\":{\"name\":\"Tennis Ch?teau des Rentiers\",\"lat\":48.830406,\"lon\":2.3619,\"address\":\"184 Rue du ch?teau des Rentiers \",\"zipCode\":\"75013\",\"websiteUrl\":\"http:\\\\/\\\\/equipement.paris.fr\\\\/tennis-ch?teau-des-rentiers-2968\",\"id_cat\":280.0,\"cat\":\"Tennis\",\"type\":null,\"city\":\"Paris\",\"state\":\"Not yet visited\"},\"2969\":{\"name\":\"Tennis Cordeli?res\",\"lat\":48.833435,\"lon\":2.348546,\"address\":\"35 Rue des Cordeli?res \",\"zipCode\":\"75013\",\"websiteUrl\":\"http:\\\\/\\\\/equipement.paris.fr\\\\/tennis-cordeli?res-2969\",\"id_cat\":280.0,\"cat\":\"Tennis\",\"type\":null,\"city\":\"Paris\",\"state\":\"Not yet visited\"},\"2970\":{\"name\":\"Tennis Dunois\",\"lat\":48.833035,\"lon\":2.366424,\"address\":\"70 Rue Dunois\",\"zipCode\":\"75013\",\"websiteUrl\":\"http:\\\\/\\\\/equipement.paris.fr\\\\/tennis-dunois-2970\",\"id_cat\":280.0,\"cat\":\"Tennis\",\"type\":null,\"city\":\"Paris\",\"state\":\"Not yet visited\"},\"2971\":{\"name\":\"Tennis de la Poterne des Peupliers\",\"lat\":48.820278,\"lon\":2.354112,\"address\":\"1 Rue Max Jacob \",\"zipCode\":\"75013\",\"websiteUrl\":\"http:\\\\/\\\\/equipement.paris.fr\\\\/tennis-de-la-poterne-des-peupliers-2971\",\"id_cat\":280.0,\"cat\":\"Tennis\",\"type\":null,\"city\":\"Paris\",\"state\":\"Not yet visited\"},\"2972\":{\"name\":\"Tennis Elisabeth\",\"lat\":48.821259,\"lon\":2.328693,\"address\":\"7 Avenue Paul Appell \",\"zipCode\":\"75014\",\"websiteUrl\":\"http:\\\\/\\\\/equipement.paris.fr\\\\/tennis-elisabeth-2972\",\"id_cat\":280.0,\"cat\":\"Tennis\",\"type\":null,\"city\":\"Paris\",\"state\":\"Not yet visited\"},\"2977\":{\"name\":\"Tennis Andr? et Ren? Mourlon\",\"lat\":48.848873,\"lon\":2.284738,\"address\":\"19 Rue Gaston de Caillavet \",\"zipCode\":\"75015\",\"websiteUrl\":\"http:\\\\/\\\\/equipement.paris.fr\\\\/tennis-andr?-et-ren?-mourlon-2977\",\"id_cat\":280.0,\"cat\":\"Tennis\",\"type\":null,\"city\":\"Paris\",\"state\":\"Not yet visited\"},\"2978\":{\"name\":\"Tennis Sablonni?re\",\"lat\":48.843792,\"lon\":2.302382,\"address\":\"62 Rue Cambronne \",\"zipCode\":\"75015\",\"websiteUrl\":\"http:\\\\/\\\\/equipement.paris.fr\\\\/tennis-sablonni?re-2978\",\"id_cat\":280.0,\"cat\":\"Tennis\",\"type\":null,\"city\":\"Paris\",\"state\":\"Not yet visited\"},\"2979\":{\"name\":\"Tennis Suzanne Lenglen\",\"lat\":48.833035,\"lon\":2.277919,\"address\":\"2 rue Louis Armand \",\"zipCode\":\"75015\",\"websiteUrl\":\"http:\\\\/\\\\/equipement.paris.fr\\\\/tennis-suzanne-lenglen-2979\",\"id_cat\":280.0,\"cat\":\"Tennis\",\"type\":null,\"city\":\"Paris\",\"state\":\"Not yet visited\"},\"2980\":{\"name\":\"Tennis Henry de Montherlant\",\"lat\":48.867447,\"lon\":2.272296,\"address\":\"30 Boulevard Lannes \",\"zipCode\":\"75016\",\"websiteUrl\":\"http:\\\\/\\\\/equipement.paris.fr\\\\/tennis-henry-de-montherlant-2980\",\"id_cat\":280.0,\"cat\":\"Tennis\",\"type\":null,\"city\":\"Paris\",\"state\":\"Not yet visited\"},\"2981\":{\"name\":\"Tennis Niox\",\"lat\":48.835205,\"lon\":2.262558,\"address\":\"16 Quai Saint Exup?ry \",\"zipCode\":\"75016\",\"websiteUrl\":\"http:\\\\/\\\\/equipement.paris.fr\\\\/tennis-niox-2981\",\"id_cat\":280.0,\"cat\":\"Tennis\",\"type\":null,\"city\":\"Paris\",\"state\":\"Not yet visited\"},\"2982\":{\"name\":\"Tennis Aurelles de Paladines\",\"lat\":48.883156,\"lon\":2.28226,\"address\":\"17 Boulevard d\\\\\\\\\\'Aurelle de Paladines \",\"zipCode\":\"75017\",\"websiteUrl\":\"http:\\\\/\\\\/equipement.paris.fr\\\\/tennis-aurelles-de-paladines-2982\",\"id_cat\":280.0,\"cat\":\"Tennis\",\"type\":null,\"city\":\"Paris\",\"state\":\"Not yet visited\"},\"2983\":{\"name\":\"Tennis Courcelles\",\"lat\":48.888103,\"lon\":2.294193,\"address\":\"209, rue de Courcelles \",\"zipCode\":\"75017\",\"websiteUrl\":\"http:\\\\/\\\\/equipement.paris.fr\\\\/tennis-courcelles-2983\",\"id_cat\":280.0,\"cat\":\"Tennis\",\"type\":null,\"city\":\"Paris\",\"state\":\"Not yet visited\"},\"2985\":{\"name\":\"Tennis Max Rousi?\",\"lat\":48.898933,\"lon\":2.325513,\"address\":\"28 Rue Andr? Brechet \",\"zipCode\":\"75017\",\"websiteUrl\":\"http:\\\\/\\\\/equipement.paris.fr\\\\/tennis-max-rousi?-2985\",\"id_cat\":280.0,\"cat\":\"Tennis\",\"type\":null,\"city\":\"Paris\",\"state\":\"Not yet visited\"},\"2987\":{\"name\":\"Tennis Bertrand Dauvin\",\"lat\":48.899296,\"lon\":2.342513,\"address\":\"12 Rue Ren? Binet \",\"zipCode\":\"75018\",\"websiteUrl\":\"http:\\\\/\\\\/equipement.paris.fr\\\\/tennis-bertrand-dauvin-2987\",\"id_cat\":280.0,\"cat\":\"Tennis\",\"type\":null,\"city\":\"Paris\",\"state\":\"Not yet visited\"},\"2988\":{\"name\":\"Tennis Jesse Owens ex Championnet\",\"lat\":48.894657,\"lon\":2.334783,\"address\":\"172 Rue Championnet \",\"zipCode\":\"75018\",\"websiteUrl\":\"http:\\\\/\\\\/equipement.paris.fr\\\\/tennis-jesse-owens-ex-championnet-2988\",\"id_cat\":280.0,\"cat\":\"Tennis\",\"type\":null,\"city\":\"Paris\",\"state\":\"Not yet visited\"},\"2989\":{\"name\":\"Tennis des Poissonniers\",\"lat\":48.89962,\"lon\":2.351621,\"address\":\"2 Rue Jean Cocteau \",\"zipCode\":\"75018\",\"websiteUrl\":\"http:\\\\/\\\\/equipement.paris.fr\\\\/tennis-des-poissonniers-2989\",\"id_cat\":280.0,\"cat\":\"Tennis\",\"type\":null,\"city\":\"Paris\",\"state\":\"Not yet visited\"},\"2990\":{\"name\":\"Tennis Jandelle\",\"lat\":48.875404,\"lon\":2.380203,\"address\":\"15 Cit? Jandelle \",\"zipCode\":\"75019\",\"websiteUrl\":\"http:\\\\/\\\\/equipement.paris.fr\\\\/tennis-jandelle-2990\",\"id_cat\":280.0,\"cat\":\"Tennis\",\"type\":null,\"city\":\"Paris\",\"state\":\"Not yet visited\"},\"2991\":{\"name\":\"Tennis Jules Ladoum?gue\",\"lat\":48.889606,\"lon\":2.397263,\"address\":\"1 Avenue de la porte de Pantin \",\"zipCode\":\"75019\",\"websiteUrl\":\"http:\\\\/\\\\/equipement.paris.fr\\\\/tennis-jules-ladoum?gue-2991\",\"id_cat\":280.0,\"cat\":\"Tennis\",\"type\":null,\"city\":\"Paris\",\"state\":\"Not yet visited\"},\"2992\":{\"name\":\"Tennis Edouard Pailleron\",\"lat\":48.880882,\"lon\":2.377449,\"address\":\"22 Rue Edouard Pailleron \",\"zipCode\":\"75019\",\"websiteUrl\":\"http:\\\\/\\\\/equipement.paris.fr\\\\/tennis-edouard-pailleron-2992\",\"id_cat\":280.0,\"cat\":\"Tennis\",\"type\":null,\"city\":\"Paris\",\"state\":\"Not yet visited\"},\"2993\":{\"name\":\"Tennis Sept Arpents\",\"lat\":48.8896426608,\"lon\":2.3984455061,\"address\":\"9, rue des 7 arpents\",\"zipCode\":\"75019\",\"websiteUrl\":\"http:\\\\/\\\\/equipement.paris.fr\\\\/tennis-sept-arpents-2993\",\"id_cat\":280.0,\"cat\":\"Tennis\",\"type\":null,\"city\":\"Paris\",\"state\":\"Not yet visited\"},\"2995\":{\"name\":\"Tennis Louis Lumi?re\",\"lat\":48.858906,\"lon\":2.411531,\"address\":\"30 Rue Louis Lumi?re \",\"zipCode\":\"75020\",\"websiteUrl\":\"http:\\\\/\\\\/equipement.paris.fr\\\\/tennis-louis-lumi?re-2995\",\"id_cat\":280.0,\"cat\":\"Tennis\",\"type\":null,\"city\":\"Paris\",\"state\":\"Not yet visited\"},\"2997\":{\"name\":\"Tennis de la Porte de Bagnolet\",\"lat\":48.862213,\"lon\":2.410989,\"address\":\"72 Rue Louis Lumi?re \",\"zipCode\":\"75020\",\"websiteUrl\":\"http:\\\\/\\\\/equipement.paris.fr\\\\/tennis-de-la-porte-de-bagnolet-2997\",\"id_cat\":280.0,\"cat\":\"Tennis\",\"type\":null,\"city\":\"Paris\",\"state\":\"Not yet visited\"},\"2998\":{\"name\":\"Tennis Docteurs D?jerine\",\"lat\":48.857147,\"lon\":2.411479,\"address\":\"32 Rue des docteurs Dejerine \",\"zipCode\":\"75020\",\"websiteUrl\":\"http:\\\\/\\\\/equipement.paris.fr\\\\/tennis-docteurs-d?jerine-2998\",\"id_cat\":280.0,\"cat\":\"Tennis\",\"type\":null,\"city\":\"Paris\",\"state\":\"Not yet visited\"},\"3318\":{\"name\":\"Tennis Carnot\",\"lat\":48.842991,\"lon\":2.413015,\"address\":\"26 boulevard Carnot \",\"zipCode\":\"75012\",\"websiteUrl\":\"http:\\\\/\\\\/equipement.paris.fr\\\\/tennis-carnot-3318\",\"id_cat\":280.0,\"cat\":\"Tennis\",\"type\":null,\"city\":\"Paris\",\"state\":\"Not yet visited\"},\"3321\":{\"name\":\"Tennis L?o Lagrange\",\"lat\":48.833179,\"lon\":2.401572,\"address\":\"68, boulevard Poniatowski \",\"zipCode\":\"75012\",\"websiteUrl\":\"http:\\\\/\\\\/equipement.paris.fr\\\\/tennis-l?o-lagrange-3321\",\"id_cat\":280.0,\"cat\":\"Tennis\",\"type\":null,\"city\":\"Paris\",\"state\":\"Not yet visited\"},\"3372\":{\"name\":\"Tennis de l\\'Atlantique\",\"lat\":48.840546,\"lon\":2.318909,\"address\":\"25 allee du Capitaine Dronne \",\"zipCode\":\"75015\",\"websiteUrl\":\"http:\\\\/\\\\/equipement.paris.fr\\\\/tennis-de-l-atlantique-3372\",\"id_cat\":280.0,\"cat\":\"Tennis\",\"type\":null,\"city\":\"Paris\",\"state\":\"Not yet visited\"},\"3664\":{\"name\":\"Tennis Poliveau\",\"lat\":48.839882,\"lon\":2.35747,\"address\":\"39 rue Poliveau\",\"zipCode\":\"75005\",\"websiteUrl\":\"http:\\\\/\\\\/equipement.paris.fr\\\\/tennis-poliveau-3664\",\"id_cat\":280.0,\"cat\":\"Tennis\",\"type\":null,\"city\":\"Paris\",\"state\":\"Not yet visited\"},\"17244\":{\"name\":\"Tennis Philippe Auguste\",\"lat\":48.8567831,\"lon\":2.3909553,\"address\":\"108 avenue Philippe Auguste\",\"zipCode\":\"75011\",\"websiteUrl\":\"http:\\\\/\\\\/equipement.paris.fr\\\\/tennis-philippe-auguste-17244\",\"id_cat\":280.0,\"cat\":\"Tennis\",\"type\":null,\"city\":\"Paris\",\"state\":\"Not yet visited\"},\"17824\":{\"name\":\"Tennis Paul Barruel\",\"lat\":48.8386486,\"lon\":2.3052445,\"address\":\"24 rue Paul Barruel\",\"zipCode\":\"75015\",\"websiteUrl\":\"http:\\\\/\\\\/equipement.paris.fr\\\\/tennis-paul-barruel-17824\",\"id_cat\":280.0,\"cat\":\"Tennis\",\"type\":null,\"city\":\"Paris\",\"state\":\"Not yet visited\"},\"19071\":{\"name\":\"Centre Sportif Parisien de Puteaux\",\"lat\":48.8764085,\"lon\":2.2439275,\"address\":\"1 all?e des Sports\",\"zipCode\":\"92800\",\"websiteUrl\":\"http:\\\\/\\\\/equipement.paris.fr\\\\/centre-sportif-parisien-de-puteaux-19071\",\"id_cat\":280.0,\"cat\":\"Tennis\",\"type\":null,\"city\":\"Paris\",\"state\":\"Not yet visited\"},\"19075\":{\"name\":\"Tennis Thi?r?\",\"lat\":48.8537748,\"lon\":2.3736091,\"address\":\"9ter-13 passage Thi?r?\",\"zipCode\":\"75011\",\"websiteUrl\":\"http:\\\\/\\\\/equipement.paris.fr\\\\/tennis-thi?r?-19075\",\"id_cat\":280.0,\"cat\":\"Tennis\",\"type\":null,\"city\":\"Paris\",\"state\":\"Not yet visited\"},\"19091\":{\"name\":\"Tennis-Rigoulot - La Plaine\",\"lat\":48.8265263,\"lon\":2.3000032,\"address\":\"18 avenue de la Porte de Brancion\",\"zipCode\":\"75015\",\"websiteUrl\":\"http:\\\\/\\\\/equipement.paris.fr\\\\/tennis-rigoulot---la-plaine-19091\",\"id_cat\":280.0,\"cat\":\"Tennis\",\"type\":null,\"city\":\"Paris\",\"state\":\"Not yet visited\"},\"19092\":{\"name\":\"Tennis Candie\",\"lat\":48.8513831,\"lon\":2.3800191,\"address\":\"11, rue de Candie\",\"zipCode\":\"75011\",\"websiteUrl\":\"http:\\\\/\\\\/equipement.paris.fr\\\\/tennis-candie-19092\",\"id_cat\":280.0,\"cat\":\"Tennis\",\"type\":null,\"city\":\"Paris\",\"state\":\"Not yet visited\"},\"19093\":{\"name\":\"Tennis Croix Nivert\",\"lat\":48.8424487,\"lon\":2.2945745,\"address\":\"107, rue de la Croix Nivert\",\"zipCode\":\"75015\",\"websiteUrl\":\"http:\\\\/\\\\/equipement.paris.fr\\\\/tennis-croix-nivert-19093\",\"id_cat\":280.0,\"cat\":\"Tennis\",\"type\":null,\"city\":\"Paris\",\"state\":\"Not yet visited\"},\"19094\":{\"name\":\"Tennis Poissonniers\",\"lat\":48.8997616,\"lon\":2.3519564,\"address\":\"2, rue Jean Cocteau\",\"zipCode\":\"75018\",\"websiteUrl\":\"http:\\\\/\\\\/equipement.paris.fr\\\\/tennis-poissonniers-19094\",\"id_cat\":280.0,\"cat\":\"Tennis\",\"type\":null,\"city\":\"Paris\",\"state\":\"Not yet visited\"},\"19096\":{\"name\":\"Tennis Reims - Asni?res\",\"lat\":48.8885379,\"lon\":2.294193,\"address\":\"224 rue de Courcelles\",\"zipCode\":\"75017\",\"websiteUrl\":\"http:\\\\/\\\\/equipement.paris.fr\\\\/tennis-reims---asni?res-19096\",\"id_cat\":280.0,\"cat\":\"Tennis\",\"type\":null,\"city\":\"Paris\",\"state\":\"Not yet visited\"},\"3114253m0\":{\"name\":\"Complexe sportif Claude-Robillard\",\"lat\":45.552526,\"lon\":-73.63639,\"address\":\"1 000, Avenue ?mile-Journeault Est\",\"zipCode\":\"Ahuntsic-Cartierville\",\"websiteUrl\":null,\"id_cat\":null,\"cat\":\"Swimming Pool\",\"type\":\"Piscine int?rieure\",\"city\":\"Montreal\",\"state\":\"Not yet visited\"},\"1020721m1\":{\"name\":\"Centre sportif St-Charles\",\"lat\":45.479802,\"lon\":-73.563099,\"address\":\"1 055, Rue Hibernia\",\"zipCode\":\"Le Sud-Ouest\",\"websiteUrl\":null,\"id_cat\":null,\"cat\":\"Swimming Pool\",\"type\":\"Piscine int?rieure\",\"city\":\"Montreal\",\"state\":\"Not yet visited\"},\"4039115m2\":{\"name\":\"Parc Ouellette (natation et r?cr?atif)\",\"lat\":45.432989,\"lon\":-73.622005,\"address\":\"1 407, Rue Serre\",\"zipCode\":\"LaSalle\",\"websiteUrl\":null,\"id_cat\":null,\"cat\":\"Swimming Pool\",\"type\":\"Piscine ext?rieure\",\"city\":\"Montreal\",\"state\":\"Not yet visited\"},\"4156343m3\":{\"name\":\"L?Aquad?me LaSalle\",\"lat\":45.43654,\"lon\":-73.608196,\"address\":\"1 411, Rue Lapierre\",\"zipCode\":\"LaSalle\",\"websiteUrl\":null,\"id_cat\":null,\"cat\":\"Swimming Pool\",\"type\":\"Piscine int?rieure\",\"city\":\"Montreal\",\"state\":\"Not yet visited\"},\"5016554m4\":{\"name\":\"Parc Hartenstein\",\"lat\":45.518174,\"lon\":-73.690259,\"address\":\"1 505, Rue Cardinal\",\"zipCode\":\"Saint-Laurent\",\"websiteUrl\":null,\"id_cat\":null,\"cat\":\"Swimming Pool\",\"type\":\"Piscine ext?rieure\",\"city\":\"Montreal\",\"state\":\"Not yet visited\"},\"1018523m5\":{\"name\":\"Bain Quintal\",\"lat\":45.52886,\"lon\":-73.548969,\"address\":\"1?550, Rue Dufresne\",\"zipCode\":\"Ville-Marie\",\"websiteUrl\":null,\"id_cat\":null,\"cat\":\"Swimming Pool\",\"type\":\"Piscine int?rieure\",\"city\":\"Montreal\",\"state\":\"Not yet visited\"},\"5103407m6\":{\"name\":\"Centre sportif P?re-Marquette\",\"lat\":45.552047,\"lon\":-73.582776,\"address\":\"1 600, Rue Drucourt\",\"zipCode\":\"Rosemont?La Petite-Patrie\",\"websiteUrl\":null,\"id_cat\":null,\"cat\":\"Swimming Pool\",\"type\":\"Piscine int?rieure\",\"city\":\"Montreal\",\"state\":\"Not yet visited\"},\"3021351m7\":{\"name\":\"Marcelin-Wilson\",\"lat\":45.537,\"lon\":-73.684215,\"address\":\"1 655, Rue Dudemaine, H3M 1R2\",\"zipCode\":\"Ahuntsic-Cartierville\",\"websiteUrl\":null,\"id_cat\":null,\"cat\":\"Swimming Pool\",\"type\":\"Piscine ext?rieure\",\"city\":\"Montreal\",\"state\":\"Not yet visited\"},\"5061272m8\":{\"name\":\"Port de Plaisance\",\"lat\":45.42984,\"lon\":-73.676543,\"address\":\"1 800, Chemin des Iroquois\",\"zipCode\":\"Lachine\",\"websiteUrl\":null,\"id_cat\":null,\"cat\":\"Swimming Pool\",\"type\":\"Piscine ext?rieure\",\"city\":\"Montreal\",\"state\":\"Not yet visited\"},\"5006029m9\":{\"name\":\"Centre sportif Petite-Bourgogne\",\"lat\":45.488356,\"lon\":-73.569224,\"address\":\"1 825, Rue Notre-Dame Ouest\",\"zipCode\":\"Le Sud-Ouest\",\"websiteUrl\":null,\"id_cat\":null,\"cat\":\"Swimming Pool\",\"type\":\"Piscine int?rieure\",\"city\":\"Montreal\",\"state\":\"Not yet visited\"},\"5056523m10\":{\"name\":\"Parc Duff-Court\",\"lat\":45.446949,\"lon\":-73.680636,\"address\":\"1 830, Croissant Roy\",\"zipCode\":\"Lachine\",\"websiteUrl\":null,\"id_cat\":null,\"cat\":\"Swimming Pool\",\"type\":\"Piscine ext?rieure\",\"city\":\"Montreal\",\"state\":\"Not yet visited\"},\"2063743m11\":{\"name\":\"Hochelaga\",\"lat\":45.542152,\"lon\":-73.544576,\"address\":\"1 870, Rue Davidson\",\"zipCode\":\"Mercier?Hochelaga-Maisonneuve\",\"websiteUrl\":null,\"id_cat\":null,\"cat\":\"Swimming Pool\",\"type\":\"Piscine int?rieure\",\"city\":\"Montreal\",\"state\":\"Not yet visited\"},\"2065901m12\":{\"name\":\"Bain Morgan\",\"lat\":45.553456,\"lon\":-73.538296,\"address\":\"1 875, Avenue Morgan\",\"zipCode\":\"Mercier?Hochelaga-Maisonneuve\",\"websiteUrl\":null,\"id_cat\":null,\"cat\":\"Swimming Pool\",\"type\":\"Piscine int?rieure\",\"city\":\"Montreal\",\"state\":\"Not yet visited\"},\"5072841m13\":{\"name\":\"Complexe aquatique ? Soci?t? du parc Jean-Drapeau\",\"lat\":45.513559,\"lon\":-73.534212,\"address\":\"1, Circuit Gilles-Villeneuve,\",\"zipCode\":\"Ville-Marie\",\"websiteUrl\":null,\"id_cat\":null,\"cat\":\"Swimming Pool\",\"type\":\"Piscine ext?rieure\",\"city\":\"Montreal\",\"state\":\"Not yet visited\"},\"2068769m14\":{\"name\":\"Parc Ottawa\",\"lat\":45.58206,\"lon\":-73.642625,\"address\":\"10 341, Avenue Lausanne\",\"zipCode\":\"Montr?al-Nord\",\"websiteUrl\":null,\"id_cat\":null,\"cat\":\"Swimming Pool\",\"type\":\"Piscine ext?rieure\",\"city\":\"Montreal\",\"state\":\"Not yet visited\"},\"3116265m15\":{\"name\":\"Sophie-Barat\",\"lat\":45.561879,\"lon\":-73.667771,\"address\":\"10?851, Rue Saint-Charles, H2C 3H7\",\"zipCode\":\"Ahuntsic-Cartierville\",\"websiteUrl\":null,\"id_cat\":null,\"cat\":\"Swimming Pool\",\"type\":\"Piscine int?rieure\",\"city\":\"Montreal\",\"state\":\"Not yet visited\"},\"2076909m16\":{\"name\":\"Parc Charleroi\",\"lat\":45.599675,\"lon\":-73.622288,\"address\":\"10 975, Avenue Alfred\",\"zipCode\":\"Montr?al-Nord\",\"websiteUrl\":null,\"id_cat\":null,\"cat\":\"Swimming Pool\",\"type\":\"Piscine ext?rieure\",\"city\":\"Montreal\",\"state\":\"Not yet visited\"},\"5073228m17\":{\"name\":\"Parc Arthur-Therrien\",\"lat\":45.465099,\"lon\":-73.561523,\"address\":\"10, Rue Hickson\",\"zipCode\":\"Verdun\",\"websiteUrl\":null,\"id_cat\":null,\"cat\":\"Swimming Pool\",\"type\":\"Piscine ext?rieure\",\"city\":\"Montreal\",\"state\":\"Not yet visited\"},\"2077664m18\":{\"name\":\"Parc Saint-Laurent\",\"lat\":45.6054,\"lon\":-73.628788,\"address\":\"11 614, Avenue Salk\",\"zipCode\":\"Montr?al-Nord\",\"websiteUrl\":null,\"id_cat\":null,\"cat\":\"Swimming Pool\",\"type\":\"Piscine ext?rieure\",\"city\":\"Montreal\",\"state\":\"Not yet visited\"},\"5029269m19\":{\"name\":\"Piscine int?rieure Roussin\",\"lat\":45.640791,\"lon\":-73.491213,\"address\":\"12?125, Rue Notre-Dame Est\",\"zipCode\":\"Rivi?re-des-Prairies?Pointe-aux-Trembles\",\"websiteUrl\":null,\"id_cat\":null,\"cat\":\"Swimming Pool\",\"type\":\"Piscine int?rieure\",\"city\":\"Montreal\",\"state\":\"Not yet visited\"},\"5072848m20\":{\"name\":\"Centre aquatique Rivi?res-des-Prairies\",\"lat\":45.652434,\"lon\":-73.579832,\"address\":\"12?515, Boulevard Rodolphe-Forget\",\"zipCode\":\"Rivi?re-des-Prairies?Pointe-aux-Trembles\",\"websiteUrl\":null,\"id_cat\":null,\"cat\":\"Swimming Pool\",\"type\":\"Piscine int?rieure\",\"city\":\"Montreal\",\"state\":\"Not yet visited\"},\"5070958m21\":{\"name\":\"Parc Alexis-Carrel\",\"lat\":45.644203,\"lon\":-73.5888,\"address\":\"12 550, Avenue Alexis-Carrel\",\"zipCode\":\"Rivi?re-des-Prairies?Pointe-aux-Trembles\",\"websiteUrl\":null,\"id_cat\":null,\"cat\":\"Swimming Pool\",\"type\":\"Piscine ext?rieure\",\"city\":\"Montreal\",\"state\":\"Not yet visited\"},\"0m22\":{\"name\":\"Piscine briarwood\",\"lat\":45.513394,\"lon\":-73.835702,\"address\":\"12421 rue Pavillon\",\"zipCode\":\"Pierrefonds-Roxborro\",\"websiteUrl\":null,\"id_cat\":null,\"cat\":\"Swimming Pool\",\"type\":\"Piscine ext?rieure\",\"city\":\"Montreal\",\"state\":\"Not yet visited\"},\"2079739m23\":{\"name\":\"Parc Saint-Georges\",\"lat\":45.654126,\"lon\":-73.492443,\"address\":\"13 050, Rue Prince-Albert\",\"zipCode\":\"Rivi?re-des-Prairies?Pointe-aux-Trembles\",\"websiteUrl\":null,\"id_cat\":null,\"cat\":\"Swimming Pool\",\"type\":\"Piscine ext?rieure\",\"city\":\"Montreal\",\"state\":\"Not yet visited\"},\"2072528m24\":{\"name\":\"Parc Richelieu\",\"lat\":45.663718,\"lon\":-73.504812,\"address\":\"13 600, Rue Forsyth\",\"zipCode\":\"Rivi?re-des-Prairies?Pointe-aux-Trembles\",\"websiteUrl\":null,\"id_cat\":null,\"cat\":\"Swimming Pool\",\"type\":\"Piscine ext?rieure\",\"city\":\"Montreal\",\"state\":\"Not yet visited\"},\"0m25\":{\"name\":\"Piscine Versailles\",\"lat\":45.511799,\"lon\":-73.84876,\"address\":\"13207 rue Desjardins\",\"zipCode\":\"Pierrefonds-Roxborro\",\"websiteUrl\":null,\"id_cat\":null,\"cat\":\"Swimming Pool\",\"type\":\"Piscine ext?rieure\",\"city\":\"Montreal\",\"state\":\"Not yet visited\"},\"0m26\":{\"name\":\"Piscine du YMCA Centre-Ville\",\"lat\":45.499673,\"lon\":-73.574548,\"address\":\"1440 rue Stanley\",\"zipCode\":\"Ville-Marie\",\"websiteUrl\":null,\"id_cat\":null,\"cat\":\"Swimming Pool\",\"type\":\"Piscine int?rieure\",\"city\":\"Montreal\",\"state\":\"Not yet visited\"},\"0m27\":{\"name\":\"Piscine Thorndale\",\"lat\":45.474981,\"lon\":-73.856309,\"address\":\"14921 rue Oakwood\",\"zipCode\":\"Pierrefonds-Roxborro\",\"websiteUrl\":null,\"id_cat\":null,\"cat\":\"Swimming Pool\",\"type\":\"Piscine ext?rieure\",\"city\":\"Montreal\",\"state\":\"Not yet visited\"},\"4084462m28\":{\"name\":\"Parc Robert-Sauv?\",\"lat\":45.481102,\"lon\":-73.866735,\"address\":\"15 734, Rue de la Caserne, Sainte-Genevi?ve\",\"zipCode\":\"test\",\"websiteUrl\":null,\"id_cat\":null,\"cat\":\"Swimming Pool\",\"type\":\"Piscine ext?rieure\",\"city\":\"Montreal\",\"state\":\"Not yet visited\"},\"5054431m29\":{\"name\":\"Parc Kirkland\",\"lat\":45.445896,\"lon\":-73.649786,\"address\":\"150, Rue des ?rables\",\"zipCode\":\"Lachine\",\"websiteUrl\":null,\"id_cat\":null,\"cat\":\"Swimming Pool\",\"type\":\"Piscine ext?rieure\",\"city\":\"Montreal\",\"state\":\"Not yet visited\"},\"0m30\":{\"name\":\"Piscine Marcelin-Wilson\",\"lat\":45.53926,\"lon\":-73.68896,\"address\":\"1655 rue Dudemaine\",\"zipCode\":\"Ahuntsic-Cartierville\",\"websiteUrl\":null,\"id_cat\":null,\"cat\":\"Swimming Pool\",\"type\":\"Piscine ext?rieure, Jeux d\\'eau\",\"city\":\"Montreal\",\"state\":\"Not yet visited\"},\"4127635m31\":{\"name\":\"Parc Haymard\",\"lat\":45.423339,\"lon\":-73.648129,\"address\":\"170, Avenue Orchard\",\"zipCode\":\"LaSalle\",\"websiteUrl\":null,\"id_cat\":null,\"cat\":\"Swimming Pool\",\"type\":\"Piscine ext?rieure\",\"city\":\"Montreal\",\"state\":\"Not yet visited\"},\"5015690m32\":{\"name\":\"Parc Marlborough\",\"lat\":45.5236,\"lon\":-73.720565,\"address\":\"2 105, Rue Beauz?le\",\"zipCode\":\"Saint-Laurent\",\"websiteUrl\":null,\"id_cat\":null,\"cat\":\"Swimming Pool\",\"type\":\"Piscine ext?rieure\",\"city\":\"Montreal\",\"state\":\"Not yet visited\"},\"1034674m33\":{\"name\":\"Centre du Plateau\",\"lat\":45.539247,\"lon\":-73.575215,\"address\":\"2 275, Boulevard St-Joseph\",\"zipCode\":\"Le Plateau-Mont-Royal\",\"websiteUrl\":null,\"id_cat\":null,\"cat\":\"Swimming Pool\",\"type\":\"Piscine int?rieure\",\"city\":\"Montreal\",\"state\":\"Not yet visited\"},\"1026261m34\":{\"name\":\"Parc Baldwin\",\"lat\":45.53471,\"lon\":-73.563391,\"address\":\"2 330, Rue Rachel Est\",\"zipCode\":\"Le Plateau-Mont-Royal\",\"websiteUrl\":null,\"id_cat\":null,\"cat\":\"Swimming Pool\",\"type\":\"Piscine ext?rieure\",\"city\":\"Montreal\",\"state\":\"Not yet visited\"},\"3023745m35\":{\"name\":\"Gabriel-Lalemant\",\"lat\":45.570705,\"lon\":-73.642456,\"address\":\"2 350, Rue Sauv? Est, H2B 1B2\",\"zipCode\":\"Ahuntsic-Cartierville\",\"websiteUrl\":null,\"id_cat\":null,\"cat\":\"Swimming Pool\",\"type\":\"Piscine ext?rieure\",\"city\":\"Montreal\",\"state\":\"Not yet visited\"},\"2008973m36\":{\"name\":\"Parc Le P?lican\",\"lat\":45.543972,\"lon\":-73.574363,\"address\":\"2 560, Rue Masson\",\"zipCode\":\"Rosemont?La Petite-Patrie\",\"websiteUrl\":null,\"id_cat\":null,\"cat\":\"Swimming Pool\",\"type\":\"Piscine ext?rieure\",\"city\":\"Montreal\",\"state\":\"Not yet visited\"},\"5037561m37\":{\"name\":\"Jean-Claude-Mal?part\",\"lat\":45.534409,\"lon\":-73.553673,\"address\":\"2 633, Rue Ontario Est\",\"zipCode\":\"Ville-Marie\",\"websiteUrl\":null,\"id_cat\":null,\"cat\":\"Swimming Pool\",\"type\":\"Piscine int?rieure\",\"city\":\"Montreal\",\"state\":\"Not yet visited\"},\"4157130m38\":{\"name\":\"Parc No?l-Nord\",\"lat\":45.51771,\"lon\":-73.727966,\"address\":\"2 900, Rue Baker\",\"zipCode\":\"Saint-Laurent\",\"websiteUrl\":null,\"id_cat\":null,\"cat\":\"Swimming Pool\",\"type\":\"Piscine ext?rieure\",\"city\":\"Montreal\",\"state\":\"Not yet visited\"},\"3123106m39\":{\"name\":\"Parc Jarry\",\"lat\":45.535132,\"lon\":-73.628819,\"address\":\"205, Rue Faillon Ouest\",\"zipCode\":\"Villeray?Saint-Michel?Parc-Extension\",\"websiteUrl\":null,\"id_cat\":null,\"cat\":\"Swimming Pool\",\"type\":\"Piscine ext?rieure\",\"city\":\"Montreal\",\"state\":\"Not yet visited\"},\"0m40\":{\"name\":\"Piscine Association sportive et communautaire Centre-S\",\"lat\":45.522851,\"lon\":-73.562687,\"address\":\"2093 de la Visitation\",\"zipCode\":\"Ville-Marie\",\"websiteUrl\":null,\"id_cat\":null,\"cat\":\"Swimming Pool\",\"type\":\"Piscine int?rieure\",\"city\":\"Montreal\",\"state\":\"Not yet visited\"},\"0m41\":{\"name\":\"Piscine du Vieux-Montr?al\",\"lat\":45.514048,\"lon\":-73.566465,\"address\":\"255 rue Ontario est\",\"zipCode\":\"Ville-Marie\",\"websiteUrl\":null,\"id_cat\":null,\"cat\":\"Swimming Pool\",\"type\":\"Piscine int?rieure\",\"city\":\"Montreal\",\"state\":\"Not yet visited\"},\"5087211m42\":{\"name\":\"Parc Elgar\",\"lat\":45.457304,\"lon\":-73.547897,\"address\":\"260, Rue Elgar\",\"zipCode\":\"Verdun\",\"websiteUrl\":null,\"id_cat\":null,\"cat\":\"Swimming Pool\",\"type\":\"Piscine ext?rieure\",\"city\":\"Montreal\",\"state\":\"Not yet visited\"},\"5082586m43\":{\"name\":\"Parc Painter\",\"lat\":45.527988,\"lon\":-73.676018,\"address\":\"260, Rue Marcotte\",\"zipCode\":\"Saint-Laurent\",\"websiteUrl\":null,\"id_cat\":null,\"cat\":\"Swimming Pool\",\"type\":\"Piscine ext?rieure\",\"city\":\"Montreal\",\"state\":\"Not yet visited\"},\"5015687m44\":{\"name\":\"Parc Bourbonni?re\",\"lat\":45.501839,\"lon\":-73.702706,\"address\":\"2800, Rue Cazeneuve\",\"zipCode\":\"Saint-Laurent\",\"websiteUrl\":null,\"id_cat\":null,\"cat\":\"Swimming Pool\",\"type\":\"Piscine ext?rieure\",\"city\":\"Montreal\",\"state\":\"Not yet visited\"},\"1041817m45\":{\"name\":\"Bain Schubert\",\"lat\":45.516452,\"lon\":-73.578794,\"address\":\"3 950, Boulevard Saint-Laurent\",\"zipCode\":\"Le Plateau-Mont-Royal\",\"websiteUrl\":null,\"id_cat\":null,\"cat\":\"Swimming Pool\",\"type\":\"Piscine int?rieure\",\"city\":\"Montreal\",\"state\":\"Not yet visited\"},\"4143045m46\":{\"name\":\"Parc M?nard\",\"lat\":45.433645,\"lon\":-73.653179,\"address\":\"300, Rue Cl?ment\",\"zipCode\":\"LaSalle\",\"websiteUrl\":null,\"id_cat\":null,\"cat\":\"Swimming Pool\",\"type\":\"Piscine ext?rieure\",\"city\":\"Montreal\",\"state\":\"Not yet visited\"},\"0m47\":{\"name\":\"Piscine Pierrefonds park\",\"lat\":45.499403,\"lon\":-73.853316,\"address\":\"355 chemin Rive-Bois?e\",\"zipCode\":\"Pierrefonds-Roxborro\",\"websiteUrl\":null,\"id_cat\":null,\"cat\":\"Swimming Pool\",\"type\":\"Piscine ext?rieure\",\"city\":\"Montreal\",\"state\":\"Not yet visited\"},\"1123220m48\":{\"name\":\"Piscine int?rieure Saint-Henri\",\"lat\":45.478166,\"lon\":-73.5874,\"address\":\"4 055, Rue St-Jacques\",\"zipCode\":\"Le Sud-Ouest\",\"websiteUrl\":null,\"id_cat\":null,\"cat\":\"Swimming Pool\",\"type\":\"Piscine int?rieure\",\"city\":\"Montreal\",\"state\":\"Not yet visited\"},\"2083978m49\":{\"name\":\"Parc Primeau\",\"lat\":45.593127,\"lon\":-73.636091,\"address\":\"4 209, Rue de Castille\",\"zipCode\":\"Montr?al-Nord\",\"websiteUrl\":null,\"id_cat\":null,\"cat\":\"Swimming Pool\",\"type\":\"Piscine ext?rieure\",\"city\":\"Montreal\",\"state\":\"Not yet visited\"},\"2017640m50\":{\"name\":\"Ren?-Goupil\",\"lat\":45.577875,\"lon\":-73.610824,\"address\":\"4 250, Rue du Parc-Ren?-Goupil\",\"zipCode\":\"Villeray?Saint-Michel?Parc-Extension\",\"websiteUrl\":null,\"id_cat\":null,\"cat\":\"Swimming Pool\",\"type\":\"Piscine int?rieure\",\"city\":\"Montreal\",\"state\":\"Not yet visited\"},\"5089500m51\":{\"name\":\"Maisonneuve\",\"lat\":45.554247,\"lon\":-73.542011,\"address\":\"4 350, Rue de Rouen\",\"zipCode\":\"Mercier?Hochelaga-Maisonneuve\",\"websiteUrl\":null,\"id_cat\":null,\"cat\":\"Swimming Pool\",\"type\":\"Piscine ext?rieure\",\"city\":\"Montreal\",\"state\":\"Not yet visited\"},\"1046323m52\":{\"name\":\"Parc Sir George-?tienne-Cartier\",\"lat\":45.473398,\"lon\":-73.586395,\"address\":\"4 550, Rue Sainte-?milie\",\"zipCode\":\"Le Sud-Ouest\",\"websiteUrl\":null,\"id_cat\":null,\"cat\":\"Swimming Pool\",\"type\":\"Piscine ext?rieure\",\"city\":\"Montreal\",\"state\":\"Not yet visited\"},\"5005023m53\":{\"name\":\"Centre sportif C?te-des-Neiges\",\"lat\":45.492694,\"lon\":-73.638062,\"address\":\"4 880, Avenue Van Horne\",\"zipCode\":\"C?te-des-Neiges?Notre-Dame-de-Gr?ce\",\"websiteUrl\":null,\"id_cat\":null,\"cat\":\"Swimming Pool\",\"type\":\"Piscine int?rieure\",\"city\":\"Montreal\",\"state\":\"Not yet visited\"},\"5126259m54\":{\"name\":\"St-Roch\",\"lat\":45.53198,\"lon\":-73.631014,\"address\":\"400, Avenue Ball\",\"zipCode\":\"Villeray?Saint-Michel?Parc-Extension\",\"websiteUrl\":null,\"id_cat\":null,\"cat\":\"Swimming Pool\",\"type\":\"Piscine int?rieure\",\"city\":\"Montreal\",\"state\":\"Not yet visited\"},\"0m55\":{\"name\":\"Piscine Valleycrest\",\"lat\":45.45784,\"lon\":-73.880981,\"address\":\"4600 rue Cageux\",\"zipCode\":\"Pierrefonds-Roxborro\",\"websiteUrl\":null,\"id_cat\":null,\"cat\":\"Swimming Pool\",\"type\":\"Piscine ext?rieure\",\"city\":\"Montreal\",\"state\":\"Not yet visited\"},\"5060035m56\":{\"name\":\"Parc Lasalle\",\"lat\":45.438256,\"lon\":-73.675061,\"address\":\"475, 10e Avenue\",\"zipCode\":\"Lachine\",\"websiteUrl\":null,\"id_cat\":null,\"cat\":\"Swimming Pool\",\"type\":\"Piscine ext?rieure\",\"city\":\"Montreal\",\"state\":\"Not yet visited\"},\"5082406m57\":{\"name\":\"Parc Maria-Goretti\",\"lat\":45.691711,\"lon\":-73.487276,\"address\":\"488, 85e Avenue\",\"zipCode\":\"Rivi?re-des-Prairies?Pointe-aux-Trembles\",\"websiteUrl\":null,\"id_cat\":null,\"cat\":\"Swimming Pool\",\"type\":\"Piscine ext?rieure\",\"city\":\"Montreal\",\"state\":\"Not yet visited\"},\"4053724m58\":{\"name\":\"Parc Eug?ne-D?Ostie\",\"lat\":45.486348,\"lon\":-73.883515,\"address\":\"488, Mont?e de l??glise, L\\'?le-Bizard\",\"zipCode\":\"test\",\"websiteUrl\":null,\"id_cat\":null,\"cat\":\"Swimming Pool\",\"type\":\"Piscine ext?rieure\",\"city\":\"Montreal\",\"state\":\"Not yet visited\"},\"2090635m59\":{\"name\":\"Piscine int?rieure de Saint-L?onard\",\"lat\":45.585346,\"lon\":-73.598152,\"address\":\"5?115, Rue des Galets\",\"zipCode\":\"Saint-L?onard\",\"websiteUrl\":null,\"id_cat\":null,\"cat\":\"Swimming Pool\",\"type\":\"Piscine int?rieure\",\"city\":\"Montreal\",\"state\":\"Not yet visited\"},\"2094987m60\":{\"name\":\"Parc Pie XII\",\"lat\":45.588487,\"lon\":-73.607526,\"address\":\"5 200, Boulevard Lavoisier\",\"zipCode\":\"Saint-L?onard\",\"websiteUrl\":null,\"id_cat\":null,\"cat\":\"Swimming Pool\",\"type\":\"Piscine ext?rieure\",\"city\":\"Montreal\",\"state\":\"Not yet visited\"},\"1028133m61\":{\"name\":\"Parc Sir Wilfrid-Laurier\",\"lat\":45.53213,\"lon\":-73.58783,\"address\":\"5 200, Rue De Br?beuf\",\"zipCode\":\"Le Plateau-Mont-Royal\",\"websiteUrl\":null,\"id_cat\":null,\"cat\":\"Swimming Pool\",\"type\":\"Piscine ext?rieure\",\"city\":\"Montreal\",\"state\":\"Not yet visited\"},\"3065293m62\":{\"name\":\"Centre communautaire Notre-Dame-de-Gr?ce\",\"lat\":45.476181,\"lon\":-73.613861,\"address\":\"5 311, Chemin de la C?te-Saint-Antoine\",\"zipCode\":\"C?te-des-Neiges?Notre-Dame-de-Gr?ce\",\"websiteUrl\":null,\"id_cat\":null,\"cat\":\"Swimming Pool\",\"type\":\"Piscine int?rieure\",\"city\":\"Montreal\",\"state\":\"Not yet visited\"},\"5007586m63\":{\"name\":\"Complexe sportif Gadbois\",\"lat\":45.46684,\"lon\":-73.595746,\"address\":\"5 485, Chemin De la C?te-Saint-Paul\",\"zipCode\":\"Le Sud-Ouest\",\"websiteUrl\":null,\"id_cat\":null,\"cat\":\"Swimming Pool\",\"type\":\"Piscine int?rieure\",\"city\":\"Montreal\",\"state\":\"Not yet visited\"},\"2164916m64\":{\"name\":\"Parc Ch?nier\",\"lat\":45.602972,\"lon\":-73.543303,\"address\":\"5 555, Avenue de l?Ar?na\",\"zipCode\":\"Anjou\",\"websiteUrl\":null,\"id_cat\":null,\"cat\":\"Swimming Pool\",\"type\":\"Piscine ext?rieure\",\"city\":\"Montreal\",\"state\":\"Not yet visited\"},\"1129831m65\":{\"name\":\"Parc Ignace-Bourget\",\"lat\":45.455032,\"lon\":-73.607374,\"address\":\"5 925, Avenue De Montmagny\",\"zipCode\":\"Le Sud-Ouest\",\"websiteUrl\":null,\"id_cat\":null,\"cat\":\"Swimming Pool\",\"type\":\"Piscine ext?rieure\",\"city\":\"Montreal\",\"state\":\"Not yet visited\"},\"0m66\":{\"name\":\"Piscine Roxboro\",\"lat\":45.50904,\"lon\":-73.809902,\"address\":\"51 ave Georges-Vanier\",\"zipCode\":\"Pierrefonds-Roxborro\",\"websiteUrl\":null,\"id_cat\":null,\"cat\":\"Swimming Pool\",\"type\":\"Piscine ext?rieure\",\"city\":\"Montreal\",\"state\":\"Not yet visited\"},\"4049099m67\":{\"name\":\"Parc Lacharit?\",\"lat\":45.418186,\"lon\":-73.622624,\"address\":\"55, Avenue Latour\",\"zipCode\":\"LaSalle\",\"websiteUrl\":null,\"id_cat\":null,\"cat\":\"Swimming Pool\",\"type\":\"Piscine ext?rieure\",\"city\":\"Montreal\",\"state\":\"Not yet visited\"},\"1053978m68\":{\"name\":\"Parc de la Fontaine\",\"lat\":45.463605,\"lon\":-73.544693,\"address\":\"550, Place de la Fontaine\",\"zipCode\":\"Verdun\",\"websiteUrl\":null,\"id_cat\":null,\"cat\":\"Swimming Pool\",\"type\":\"Piscine ext?rieure\",\"city\":\"Montreal\",\"state\":\"Not yet visited\"},\"4045983m69\":{\"name\":\"Parc Raymond\",\"lat\":45.428095,\"lon\":-73.603119,\"address\":\"555, Boulevard Bishop-Power\",\"zipCode\":\"LaSalle\",\"websiteUrl\":null,\"id_cat\":null,\"cat\":\"Swimming Pool\",\"type\":\"Piscine ext?rieure\",\"city\":\"Montreal\",\"state\":\"Not yet visited\"},\"2095006m70\":{\"name\":\"Parc Ferland\",\"lat\":45.596487,\"lon\":-73.597723,\"address\":\"6 020, Boulevard Lavoisier\",\"zipCode\":\"Saint-L?onard\",\"websiteUrl\":null,\"id_cat\":null,\"cat\":\"Swimming Pool\",\"type\":\"Piscine ext?rieure\",\"city\":\"Montreal\",\"state\":\"Not yet visited\"},\"5088615m71\":{\"name\":\"Bain ?mard\",\"lat\":45.457801,\"lon\":-73.589466,\"address\":\"6 071, Rue Laurendeau\",\"zipCode\":\"Le Sud-Ouest\",\"websiteUrl\":null,\"id_cat\":null,\"cat\":\"Swimming Pool\",\"type\":\"Piscine int?rieure\",\"city\":\"Montreal\",\"state\":\"Not yet visited\"},\"2054519m72\":{\"name\":\"?douard-Montpetit\",\"lat\":45.575583,\"lon\":-73.537388,\"address\":\"6 100, Avenue Pierre-de-Coubertin\",\"zipCode\":\"Mercier?Hochelaga-Maisonneuve\",\"websiteUrl\":null,\"id_cat\":null,\"cat\":\"Swimming Pool\",\"type\":\"Piscine int?rieure\",\"city\":\"Montreal\",\"state\":\"Not yet visited\"},\"3069278m73\":{\"name\":\"Centre Rosemont\",\"lat\":45.539952,\"lon\":-73.59587,\"address\":\"6 101, 8e Avenue\",\"zipCode\":\"Rosemont?La Petite-Patrie\",\"websiteUrl\":null,\"id_cat\":null,\"cat\":\"Swimming Pool\",\"type\":\"Piscine int?rieure\",\"city\":\"Montreal\",\"state\":\"Not yet visited\"},\"3006474m74\":{\"name\":\"Parc de Kent\",\"lat\":45.503958,\"lon\":-73.632063,\"address\":\"6 262, Chemin Hudson\",\"zipCode\":\"C?te-des-Neiges?Notre-Dame-de-Gr?ce\",\"websiteUrl\":null,\"id_cat\":null,\"cat\":\"Swimming Pool\",\"type\":\"Piscine ext?rieure\",\"city\":\"Montreal\",\"state\":\"Not yet visited\"},\"3066686m75\":{\"name\":\"Parc de la Conf?d?ration\",\"lat\":45.471961,\"lon\":-73.638357,\"address\":\"6 265, Avenue Biermans\",\"zipCode\":\"C?te-des-Neiges?Notre-Dame-de-Gr?ce\",\"websiteUrl\":null,\"id_cat\":null,\"cat\":\"Swimming Pool\",\"type\":\"Piscine ext?rieure\",\"city\":\"Montreal\",\"state\":\"Not yet visited\"},\"3065833m76\":{\"name\":\"Centre sportif de Notre-Dame-de-Gr?ce\",\"lat\":45.466479,\"lon\":-73.632704,\"address\":\"6 445, Avenue Monkland\",\"zipCode\":\"C?te-des-Neiges?Notre-Dame-de-Gr?ce\",\"websiteUrl\":null,\"id_cat\":null,\"cat\":\"Swimming Pool\",\"type\":\"Piscine int?rieure\",\"city\":\"Montreal\",\"state\":\"Not yet visited\"},\"5073228m77\":{\"name\":\"Natatorium de Verdun\",\"lat\":45.443783,\"lon\":-73.574935,\"address\":\"6 500, Boulevard LaSalle\",\"zipCode\":\"Verdun\",\"websiteUrl\":null,\"id_cat\":null,\"cat\":\"Swimming Pool\",\"type\":\"Piscine ext?rieure\",\"city\":\"Montreal\",\"state\":\"Not yet visited\"},\"2011678m78\":{\"name\":\"Parc Joseph-Par?\",\"lat\":45.574865,\"lon\":-73.571457,\"address\":\"6 525, Rue 41e\",\"zipCode\":\"Rosemont?La Petite-Patrie\",\"websiteUrl\":null,\"id_cat\":null,\"cat\":\"Swimming Pool\",\"type\":\"Piscine ext?rieure\",\"city\":\"Montreal\",\"state\":\"Not yet visited\"},\"4046808m79\":{\"name\":\"Parc Riverside\",\"lat\":45.420058,\"lon\":-73.613211,\"address\":\"625, 35e Avenue\",\"zipCode\":\"LaSalle\",\"websiteUrl\":null,\"id_cat\":null,\"cat\":\"Swimming Pool\",\"type\":\"Piscine ext?rieure\",\"city\":\"Montreal\",\"state\":\"Not yet visited\"},\"5088238m80\":{\"name\":\"Parc Dixie\",\"lat\":45.44377,\"lon\":-73.718029,\"address\":\"695, 54e Avenue\",\"zipCode\":\"Lachine\",\"websiteUrl\":null,\"id_cat\":null,\"cat\":\"Swimming Pool\",\"type\":\"Piscine ext?rieure\",\"city\":\"Montreal\",\"state\":\"Not yet visited\"},\"5018645m81\":{\"name\":\"Parc Lucie-Bruneau\",\"lat\":45.603013,\"lon\":-73.583684,\"address\":\"7 051, Avenue de l?Alsace\",\"zipCode\":\"Anjou\",\"websiteUrl\":null,\"id_cat\":null,\"cat\":\"Swimming Pool\",\"type\":\"Piscine ext?rieure\",\"city\":\"Montreal\",\"state\":\"Not yet visited\"},\"5068257m82\":{\"name\":\"Parc des Roseraies\",\"lat\":45.593366,\"lon\":-73.555113,\"address\":\"7 070, Avenue de la Nantaise\",\"zipCode\":\"Anjou\",\"websiteUrl\":null,\"id_cat\":null,\"cat\":\"Swimming Pool\",\"type\":\"Piscine ext?rieure\",\"city\":\"Montreal\",\"state\":\"Not yet visited\"},\"3044179m83\":{\"name\":\"Bain St-Denis\",\"lat\":45.540369,\"lon\":-73.611903,\"address\":\"7 075, Rue Saint-Hubert\",\"zipCode\":\"Rosemont?La Petite-Patrie\",\"websiteUrl\":null,\"id_cat\":null,\"cat\":\"Swimming Pool\",\"type\":\"Piscine int?rieure\",\"city\":\"Montreal\",\"state\":\"Not yet visited\"},\"2087210m84\":{\"name\":\"Parc G. Garibaldi\",\"lat\":45.58722,\"lon\":-73.57155,\"address\":\"7 125, Rue Li?nart\",\"zipCode\":\"Saint-L?onard\",\"websiteUrl\":null,\"id_cat\":null,\"cat\":\"Swimming Pool\",\"type\":\"Piscine ext?rieure\",\"city\":\"Montreal\",\"state\":\"Not yet visited\"},\"3014811m85\":{\"name\":\"Patro Le Pr?vost\",\"lat\":45.543715,\"lon\":-73.613562,\"address\":\"7 355, Avenue Christophe-Colomb\",\"zipCode\":\"Villeray?Saint-Michel?Parc-Extension\",\"websiteUrl\":null,\"id_cat\":null,\"cat\":\"Swimming Pool\",\"type\":\"Piscine int?rieure\",\"city\":\"Montreal\",\"state\":\"Not yet visited\"},\"5010387m86\":{\"name\":\"Parc Roger-Rousseau\",\"lat\":45.616818,\"lon\":-73.549995,\"address\":\"7 501, Avenue Rondeau\",\"zipCode\":\"Anjou\",\"websiteUrl\":null,\"id_cat\":null,\"cat\":\"Swimming Pool\",\"type\":\"Piscine ext?rieure\",\"city\":\"Montreal\",\"state\":\"Not yet visited\"},\"2062331m87\":{\"name\":\"Parc Fran?ois-Perrault\",\"lat\":45.562587,\"lon\":-73.601059,\"address\":\"7 525, Rue Fran?ois-Perrault\",\"zipCode\":\"Villeray?Saint-Michel?Parc-Extension\",\"websiteUrl\":null,\"id_cat\":null,\"cat\":\"Swimming Pool\",\"type\":\"Piscine ext?rieure\",\"city\":\"Montreal\",\"state\":\"Not yet visited\"},\"4048051m88\":{\"name\":\"Parc Leroux\",\"lat\":45.434301,\"lon\":-73.595461,\"address\":\"7 540, Rue Centrale\",\"zipCode\":\"LaSalle\",\"websiteUrl\":null,\"id_cat\":null,\"cat\":\"Swimming Pool\",\"type\":\"Piscine ext?rieure\",\"city\":\"Montreal\",\"state\":\"Not yet visited\"},\"2085259m89\":{\"name\":\"Parc Ladauversi?re\",\"lat\":45.581507,\"lon\":-73.583268,\"address\":\"7 560, Boulevard Lacordaire\",\"zipCode\":\"Saint-L?onard\",\"websiteUrl\":null,\"id_cat\":null,\"cat\":\"Swimming Pool\",\"type\":\"Piscine ext?rieure\",\"city\":\"Montreal\",\"state\":\"Not yet visited\"},\"2082478m90\":{\"name\":\"Parc H?bert\",\"lat\":45.572879,\"lon\":-73.592672,\"address\":\"7 655, Rue Colbert\",\"zipCode\":\"Saint-L?onard\",\"websiteUrl\":null,\"id_cat\":null,\"cat\":\"Swimming Pool\",\"type\":\"Piscine ext?rieure\",\"city\":\"Montreal\",\"state\":\"Not yet visited\"},\"3012132m91\":{\"name\":\"Joseph-Charbonneau\",\"lat\":45.551048,\"lon\":-73.623195,\"address\":\"8 200, Rue Rousselot\",\"zipCode\":\"Villeray?Saint-Michel?Parc-Extension\",\"websiteUrl\":null,\"id_cat\":null,\"cat\":\"Swimming Pool\",\"type\":\"Piscine int?rieure\",\"city\":\"Montreal\",\"state\":\"Not yet visited\"},\"2031382m92\":{\"name\":\"Parc Verdelle\",\"lat\":45.608413,\"lon\":-73.54959,\"address\":\"8 441, Place Verdelles\",\"zipCode\":\"Anjou\",\"websiteUrl\":null,\"id_cat\":null,\"cat\":\"Swimming Pool\",\"type\":\"Piscine ext?rieure\",\"city\":\"Montreal\",\"state\":\"Not yet visited\"},\"5101787m93\":{\"name\":\"Georges-Vernot\",\"lat\":45.568459,\"lon\":-73.614508,\"address\":\"8 475, 13e Avenue\",\"zipCode\":\"Villeray?Saint-Michel?Parc-Extension\",\"websiteUrl\":null,\"id_cat\":null,\"cat\":\"Swimming Pool\",\"type\":\"Piscine int?rieure\",\"city\":\"Montreal\",\"state\":\"Not yet visited\"},\"4033627m94\":{\"name\":\"Parc Lefebvre\",\"lat\":45.435467,\"lon\":-73.635418,\"address\":\"8 600, Rue Hardy\",\"zipCode\":\"LaSalle\",\"websiteUrl\":null,\"id_cat\":null,\"cat\":\"Swimming Pool\",\"type\":\"Piscine ext?rieure\",\"city\":\"Montreal\",\"state\":\"Not yet visited\"},\"4098279m95\":{\"name\":\"Parc Chamberland\",\"lat\":45.502986,\"lon\":-73.689901,\"address\":\"800, Rue Dorais\",\"zipCode\":\"Saint-Laurent\",\"websiteUrl\":null,\"id_cat\":null,\"cat\":\"Swimming Pool\",\"type\":\"Piscine ext?rieure\",\"city\":\"Montreal\",\"state\":\"Not yet visited\"},\"5016546m96\":{\"name\":\"Parc St-Laurent\",\"lat\":45.526602,\"lon\":-73.687215,\"address\":\"845, Rue Poirier\",\"zipCode\":\"Saint-Laurent\",\"websiteUrl\":null,\"id_cat\":null,\"cat\":\"Swimming Pool\",\"type\":\"Piscine ext?rieure\",\"city\":\"Montreal\",\"state\":\"Not yet visited\"},\"4034718m97\":{\"name\":\"Parc Decelles\",\"lat\":45.513433,\"lon\":-73.678404,\"address\":\"845, Rue Roy\",\"zipCode\":\"Saint-Laurent\",\"websiteUrl\":null,\"id_cat\":null,\"cat\":\"Swimming Pool\",\"type\":\"Piscine ext?rieure\",\"city\":\"Montreal\",\"state\":\"Not yet visited\"},\"3036307m98\":{\"name\":\"Parc John-F-Kennedy\",\"lat\":45.521396,\"lon\":-73.615936,\"address\":\"860, Avenue Outremont\",\"zipCode\":\"Outremont\",\"websiteUrl\":null,\"id_cat\":null,\"cat\":\"Swimming Pool\",\"type\":\"Piscine ext?rieure\",\"city\":\"Montreal\",\"state\":\"Not yet visited\"},\"2020378m99\":{\"name\":\"Parc Sainte-Lucie\",\"lat\":45.575708,\"lon\":-73.626772,\"address\":\"9 093, 16e Avenue\",\"zipCode\":\"Villeray?Saint-Michel?Parc-Extension\",\"websiteUrl\":null,\"id_cat\":null,\"cat\":\"Swimming Pool\",\"type\":\"Piscine ext?rieure\",\"city\":\"Montreal\",\"state\":\"Not yet visited\"},\"2050446m100\":{\"name\":\"Parc L.-O.-Taillon\",\"lat\":45.605967,\"lon\":-73.511217,\"address\":\"9 200, Rue Notre-Dame Est\",\"zipCode\":\"Mercier?Hochelaga-Maisonneuve\",\"websiteUrl\":null,\"id_cat\":null,\"cat\":\"Swimming Pool\",\"type\":\"Piscine ext?rieure\",\"city\":\"Montreal\",\"state\":\"Not yet visited\"},\"1017231m101\":{\"name\":\"Bain L?vesque\",\"lat\":45.526243,\"lon\":-73.577899,\"address\":\"955, Rue Marie-Anne Est\",\"zipCode\":\"Le Plateau-Mont-Royal\",\"websiteUrl\":null,\"id_cat\":null,\"cat\":\"Swimming Pool\",\"type\":\"Piscine int?rieure\",\"city\":\"Montreal\",\"state\":\"Not yet visited\"},\"0m102\":{\"name\":\"Piscine ?mile-Legault\",\"lat\":45.506094,\"lon\":-73.703438,\"address\":null,\"zipCode\":\"Saint-Laurent\",\"websiteUrl\":null,\"id_cat\":null,\"cat\":\"Swimming Pool\",\"type\":\"Piscine int?rieure\",\"city\":\"Montreal\",\"state\":\"Not yet visited\"},\"0m103\":{\"name\":\"Piscine Jonh F. Kennedy\",\"lat\":45.55975,\"lon\":-73.603628,\"address\":null,\"zipCode\":\"Villeray?Saint-Michel?Parc-Extension\",\"websiteUrl\":null,\"id_cat\":null,\"cat\":\"Swimming Pool\",\"type\":\"Piscine int?rieure\",\"city\":\"Montreal\",\"state\":\"Not yet visited\"}}'"
      ]
     },
     "execution_count": 184,
     "metadata": {},
     "output_type": "execute_result"
    }
   ],
   "source": [
    "json_equipments"
   ]
  },
  {
   "cell_type": "code",
   "execution_count": null,
   "metadata": {
    "collapsed": true
   },
   "outputs": [],
   "source": []
  }
 ],
 "metadata": {
  "kernelspec": {
   "display_name": "Python 3.5 - env",
   "language": "python",
   "name": "py35"
  },
  "language_info": {
   "codemirror_mode": {
    "name": "ipython",
    "version": 3
   },
   "file_extension": ".py",
   "mimetype": "text/x-python",
   "name": "python",
   "nbconvert_exporter": "python",
   "pygments_lexer": "ipython3",
   "version": "3.5.4"
  }
 },
 "nbformat": 4,
 "nbformat_minor": 2
}
